{
 "cells": [
  {
   "cell_type": "code",
   "execution_count": 1,
   "id": "991b41d5",
   "metadata": {},
   "outputs": [],
   "source": [
    "import numpy as np\n",
    "from torchvision import datasets, models, transforms\n",
    "from torchvision.models import ResNet18_Weights\n",
    "import os\n",
    "import torch\n",
    "import torch.nn as nn\n",
    "import torch.optim as optim\n",
    "from torch.optim import lr_scheduler\n",
    "import copy\n",
    "import matplotlib.pyplot as plt\n",
    "import torchvision\n",
    "from PIL import Image\n",
    "from torch.utils.data import Dataset\n",
    "from torch.utils.data import DataLoader\n",
    "import tqdm\n",
    "import pandas as pd"
   ]
  },
  {
   "cell_type": "code",
   "execution_count": 2,
   "id": "1d4df45d",
   "metadata": {},
   "outputs": [],
   "source": [
    "class HydraNet(nn.Module):\n",
    "    def __init__(self):\n",
    "        super().__init__()\n",
    "        self.net = models.resnet18(weights=ResNet18_Weights.IMAGENET1K_V1)\n",
    "        for param in self.net.parameters():\n",
    "            param.requires_grad = False\n",
    "\n",
    "        self.n_features = self.net.fc.in_features\n",
    "        self.net.fc = nn.Identity()\n",
    "\n",
    "        # head for circle\n",
    "        self.net.fc1 = nn.Sequential(nn.Linear(self.n_features, 2))\n",
    "\n",
    "        # head for h_bar\n",
    "        self.net.fc2 = nn.Sequential(nn.Linear(self.n_features, 2))\n",
    "\n",
    "        # head for triangle\n",
    "        self.net.fc3 = nn.Sequential(nn.Linear(self.n_features, 2))\n",
    "\n",
    "        # head for v_bar\n",
    "        self.net.fc4 = nn.Sequential(nn.Linear(self.n_features, 2))\n",
    "\n",
    "    def forward(self, x):\n",
    "        circle_head = self.net.fc1(self.net(x))\n",
    "        h_bar_head = self.net.fc2(self.net(x))\n",
    "        triangle_head = self.net.fc3(self.net(x))\n",
    "        v_bar_head = self.net.fc4(self.net(x))\n",
    "        return circle_head, h_bar_head, triangle_head, v_bar_head"
   ]
  },
  {
   "cell_type": "code",
   "execution_count": 3,
   "id": "3b5e8ac5",
   "metadata": {},
   "outputs": [],
   "source": [
    "def predict_image(im_name, model, device):\n",
    "    transform = transforms.Compose([transforms.ToTensor(),\n",
    "                                    transforms.Normalize([0.485, 0.456, 0.406], [0.229, 0.224, 0.225])])\n",
    "    img = Image.open(im_name)\n",
    "    input = transform(img)\n",
    "    input = input.to(device)\n",
    "    input = input.unsqueeze(0)\n",
    "    model.eval()\n",
    "    circle_output, h_bar_output, triangle_output, v_bar_output = model(input)\n",
    "    _, circle_preds = torch.max(circle_output, 1)\n",
    "    _, h_bar_preds = torch.max(h_bar_output, 1)\n",
    "    _, triangle_preds = torch.max(triangle_output, 1)\n",
    "    _, v_bar_preds = torch.max(v_bar_output, 1)\n",
    "    return {'im_name': im_name, 'circle_hn': circle_preds.item(), 'h_bar_hn': h_bar_preds.item(), \n",
    "            'triangle_hn': triangle_preds.item(), 'v_bar_hn': v_bar_preds.item()}\n",
    "\n",
    "\n",
    "def generate_predictions_for_dataset(data_dir, model, device):\n",
    "    \"\"\"\n",
    "    Function that takes in model, data directory containing two folders labeled with class names as input and generates\n",
    "    predictions for all images in that directory\n",
    "    :param data_dir:\n",
    "    :param model:\n",
    "    :param device:\n",
    "    :param class_names:\n",
    "    :return:\n",
    "    \"\"\"\n",
    "    df_predictions = []\n",
    "    for label in ['0', '1']:\n",
    "        for im in os.listdir(data_dir + \"/\" + label):\n",
    "            if im == \".DS_Store\":\n",
    "                continue\n",
    "            full_im_path = data_dir + \"/\" + label + \"/\" + im\n",
    "            prediction = predict_image(full_im_path, model, device)\n",
    "            prediction['y'] = label\n",
    "            df_predictions.append(prediction)\n",
    "    return pd.DataFrame(df_predictions)"
   ]
  },
  {
   "cell_type": "code",
   "execution_count": 4,
   "id": "14fe0c8b",
   "metadata": {},
   "outputs": [
    {
     "data": {
      "text/plain": [
       "<All keys matched successfully>"
      ]
     },
     "execution_count": 4,
     "metadata": {},
     "output_type": "execute_result"
    }
   ],
   "source": [
    "device = torch.device(\"cuda:0\" if torch.cuda.is_available() else \"cpu\")\n",
    "model = HydraNet().to(device=device)\n",
    "model.load_state_dict(torch.load(\"HydraNet.pth\"))"
   ]
  },
  {
   "cell_type": "code",
   "execution_count": null,
   "id": "32140310",
   "metadata": {},
   "outputs": [],
   "source": [
    "df_predictions = generate_predictions_for_dataset(\"./data_full_pipeline\", model, device)"
   ]
  },
  {
   "cell_type": "code",
   "execution_count": null,
   "id": "e24883a7",
   "metadata": {},
   "outputs": [],
   "source": [
    "df_predictions"
   ]
  },
  {
   "cell_type": "code",
   "execution_count": null,
   "id": "e0a2a471",
   "metadata": {},
   "outputs": [],
   "source": [
    "from sklearn.linear_model import LogisticRegression\n",
    "clf = LogisticRegression(random_state=0, penalty = None).fit(df_predictions[['circle_hn', 'h_bar_hn', 'triangle_hn', 'v_bar_hn']], \n",
    "                                                             df_predictions['y'])"
   ]
  },
  {
   "cell_type": "code",
   "execution_count": null,
   "id": "781140be",
   "metadata": {},
   "outputs": [],
   "source": [
    "clf.coef_"
   ]
  },
  {
   "cell_type": "code",
   "execution_count": null,
   "id": "bfbe9556",
   "metadata": {},
   "outputs": [],
   "source": [
    "df_predictions.to_csv(\"neural_network_logistic_regression.csv\")\n",
    "df_predictions['img_name'] = df_predictions['im_name'].map(lambda x: x.split(\"/\")[-1])\n",
    "df_predictions"
   ]
  },
  {
   "cell_type": "code",
   "execution_count": null,
   "id": "631dc85a",
   "metadata": {},
   "outputs": [],
   "source": [
    "df_predictions['y_hat'] = clf.predict(df_predictions[['circle_hn', 'h_bar_hn', 'triangle_hn', 'v_bar_hn']])\n",
    "df_predictions = df_predictions.astype({'y': 'int64', 'y_hat': 'int64'})\n",
    "hand_crafted_ft = pd.read_csv(\"hand_crafted_ft.txt\", delimiter = \"\\t\")\n",
    "hand_crafted_ft\n",
    "df_merged = pd.merge(hand_crafted_ft, df_predictions, on = ['img_name', 'y'])"
   ]
  },
  {
   "cell_type": "code",
   "execution_count": null,
   "id": "4cbd9070",
   "metadata": {},
   "outputs": [],
   "source": [
    "df_merged.drop('im_name', axis=1, inplace=True)"
   ]
  },
  {
   "cell_type": "code",
   "execution_count": null,
   "id": "ca2337cc",
   "metadata": {},
   "outputs": [],
   "source": [
    "df_merged.drop('img_name', axis=1, inplace=True)"
   ]
  },
  {
   "cell_type": "code",
   "execution_count": null,
   "id": "33a84536",
   "metadata": {},
   "outputs": [],
   "source": [
    "df_merged.to_csv(\"~/final_try.csv\", index = False)"
   ]
  },
  {
   "cell_type": "code",
   "execution_count": null,
   "id": "60e8cc9c",
   "metadata": {},
   "outputs": [],
   "source": []
  },
  {
   "cell_type": "code",
   "execution_count": null,
   "id": "a9792c93",
   "metadata": {},
   "outputs": [],
   "source": [
    "np.sum(df_merged[\"y\"] == df_merged[\"y_hat\"])"
   ]
  },
  {
   "cell_type": "code",
   "execution_count": null,
   "id": "2f519574",
   "metadata": {},
   "outputs": [],
   "source": []
  }
 ],
 "metadata": {
  "kernelspec": {
   "display_name": "Python 3 (ipykernel)",
   "language": "python",
   "name": "python3"
  },
  "language_info": {
   "codemirror_mode": {
    "name": "ipython",
    "version": 3
   },
   "file_extension": ".py",
   "mimetype": "text/x-python",
   "name": "python",
   "nbconvert_exporter": "python",
   "pygments_lexer": "ipython3",
   "version": "3.10.9"
  }
 },
 "nbformat": 4,
 "nbformat_minor": 5
}
